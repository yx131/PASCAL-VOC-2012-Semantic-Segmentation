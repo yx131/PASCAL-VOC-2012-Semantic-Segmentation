{
  "nbformat": 4,
  "nbformat_minor": 0,
  "metadata": {
    "colab": {
      "name": "seg_dataset_playground.ipynb",
      "provenance": []
    },
    "kernelspec": {
      "name": "python3",
      "display_name": "Python 3"
    },
    "accelerator": "GPU"
  },
  "cells": [
    {
      "cell_type": "code",
      "metadata": {
        "id": "RdzPfOYuYJiK",
        "colab_type": "code",
        "outputId": "058665f2-9c33-4d2a-9ac7-60cbb015c91b",
        "colab": {
          "base_uri": "https://localhost:8080/",
          "height": 391
        }
      },
      "source": [
        "!pip install gluoncv"
      ],
      "execution_count": 1,
      "outputs": [
        {
          "output_type": "stream",
          "text": [
            "Collecting gluoncv\n",
            "\u001b[?25l  Downloading https://files.pythonhosted.org/packages/66/1e/e9096a9742764c9427bb7e408bc867b8761d9a2a830514f1997d1e51abaf/gluoncv-0.5.0-py2.py3-none-any.whl (511kB)\n",
            "\r\u001b[K     |▋                               | 10kB 29.7MB/s eta 0:00:01\r\u001b[K     |█▎                              | 20kB 6.6MB/s eta 0:00:01\r\u001b[K     |██                              | 30kB 9.3MB/s eta 0:00:01\r\u001b[K     |██▋                             | 40kB 5.7MB/s eta 0:00:01\r\u001b[K     |███▏                            | 51kB 6.9MB/s eta 0:00:01\r\u001b[K     |███▉                            | 61kB 8.2MB/s eta 0:00:01\r\u001b[K     |████▌                           | 71kB 9.4MB/s eta 0:00:01\r\u001b[K     |█████▏                          | 81kB 10.5MB/s eta 0:00:01\r\u001b[K     |█████▊                          | 92kB 11.7MB/s eta 0:00:01\r\u001b[K     |██████▍                         | 102kB 9.4MB/s eta 0:00:01\r\u001b[K     |███████                         | 112kB 9.4MB/s eta 0:00:01\r\u001b[K     |███████▊                        | 122kB 9.4MB/s eta 0:00:01\r\u001b[K     |████████▎                       | 133kB 9.4MB/s eta 0:00:01\r\u001b[K     |█████████                       | 143kB 9.4MB/s eta 0:00:01\r\u001b[K     |█████████▋                      | 153kB 9.4MB/s eta 0:00:01\r\u001b[K     |██████████▎                     | 163kB 9.4MB/s eta 0:00:01\r\u001b[K     |███████████                     | 174kB 9.4MB/s eta 0:00:01\r\u001b[K     |███████████▌                    | 184kB 9.4MB/s eta 0:00:01\r\u001b[K     |████████████▏                   | 194kB 9.4MB/s eta 0:00:01\r\u001b[K     |████████████▉                   | 204kB 9.4MB/s eta 0:00:01\r\u001b[K     |█████████████▌                  | 215kB 9.4MB/s eta 0:00:01\r\u001b[K     |██████████████                  | 225kB 9.4MB/s eta 0:00:01\r\u001b[K     |██████████████▊                 | 235kB 9.4MB/s eta 0:00:01\r\u001b[K     |███████████████▍                | 245kB 9.4MB/s eta 0:00:01\r\u001b[K     |████████████████                | 256kB 9.4MB/s eta 0:00:01\r\u001b[K     |████████████████▋               | 266kB 9.4MB/s eta 0:00:01\r\u001b[K     |█████████████████▎              | 276kB 9.4MB/s eta 0:00:01\r\u001b[K     |██████████████████              | 286kB 9.4MB/s eta 0:00:01\r\u001b[K     |██████████████████▋             | 296kB 9.4MB/s eta 0:00:01\r\u001b[K     |███████████████████▏            | 307kB 9.4MB/s eta 0:00:01\r\u001b[K     |███████████████████▉            | 317kB 9.4MB/s eta 0:00:01\r\u001b[K     |████████████████████▌           | 327kB 9.4MB/s eta 0:00:01\r\u001b[K     |█████████████████████▏          | 337kB 9.4MB/s eta 0:00:01\r\u001b[K     |█████████████████████▉          | 348kB 9.4MB/s eta 0:00:01\r\u001b[K     |██████████████████████▍         | 358kB 9.4MB/s eta 0:00:01\r\u001b[K     |███████████████████████         | 368kB 9.4MB/s eta 0:00:01\r\u001b[K     |███████████████████████▊        | 378kB 9.4MB/s eta 0:00:01\r\u001b[K     |████████████████████████▍       | 389kB 9.4MB/s eta 0:00:01\r\u001b[K     |█████████████████████████       | 399kB 9.4MB/s eta 0:00:01\r\u001b[K     |█████████████████████████▋      | 409kB 9.4MB/s eta 0:00:01\r\u001b[K     |██████████████████████████▎     | 419kB 9.4MB/s eta 0:00:01\r\u001b[K     |███████████████████████████     | 430kB 9.4MB/s eta 0:00:01\r\u001b[K     |███████████████████████████▌    | 440kB 9.4MB/s eta 0:00:01\r\u001b[K     |████████████████████████████▏   | 450kB 9.4MB/s eta 0:00:01\r\u001b[K     |████████████████████████████▉   | 460kB 9.4MB/s eta 0:00:01\r\u001b[K     |█████████████████████████████▌  | 471kB 9.4MB/s eta 0:00:01\r\u001b[K     |██████████████████████████████  | 481kB 9.4MB/s eta 0:00:01\r\u001b[K     |██████████████████████████████▊ | 491kB 9.4MB/s eta 0:00:01\r\u001b[K     |███████████████████████████████▍| 501kB 9.4MB/s eta 0:00:01\r\u001b[K     |████████████████████████████████| 512kB 9.4MB/s \n",
            "\u001b[?25hRequirement already satisfied: requests in /usr/local/lib/python3.6/dist-packages (from gluoncv) (2.21.0)\n",
            "Requirement already satisfied: scipy in /usr/local/lib/python3.6/dist-packages (from gluoncv) (1.3.2)\n",
            "Requirement already satisfied: Pillow in /usr/local/lib/python3.6/dist-packages (from gluoncv) (4.3.0)\n",
            "Requirement already satisfied: numpy in /usr/local/lib/python3.6/dist-packages (from gluoncv) (1.17.4)\n",
            "Requirement already satisfied: matplotlib in /usr/local/lib/python3.6/dist-packages (from gluoncv) (3.1.1)\n",
            "Requirement already satisfied: tqdm in /usr/local/lib/python3.6/dist-packages (from gluoncv) (4.28.1)\n",
            "Requirement already satisfied: idna<2.9,>=2.5 in /usr/local/lib/python3.6/dist-packages (from requests->gluoncv) (2.8)\n",
            "Requirement already satisfied: urllib3<1.25,>=1.21.1 in /usr/local/lib/python3.6/dist-packages (from requests->gluoncv) (1.24.3)\n",
            "Requirement already satisfied: certifi>=2017.4.17 in /usr/local/lib/python3.6/dist-packages (from requests->gluoncv) (2019.9.11)\n",
            "Requirement already satisfied: chardet<3.1.0,>=3.0.2 in /usr/local/lib/python3.6/dist-packages (from requests->gluoncv) (3.0.4)\n",
            "Requirement already satisfied: olefile in /usr/local/lib/python3.6/dist-packages (from Pillow->gluoncv) (0.46)\n",
            "Requirement already satisfied: kiwisolver>=1.0.1 in /usr/local/lib/python3.6/dist-packages (from matplotlib->gluoncv) (1.1.0)\n",
            "Requirement already satisfied: python-dateutil>=2.1 in /usr/local/lib/python3.6/dist-packages (from matplotlib->gluoncv) (2.6.1)\n",
            "Requirement already satisfied: cycler>=0.10 in /usr/local/lib/python3.6/dist-packages (from matplotlib->gluoncv) (0.10.0)\n",
            "Requirement already satisfied: pyparsing!=2.0.4,!=2.1.2,!=2.1.6,>=2.0.1 in /usr/local/lib/python3.6/dist-packages (from matplotlib->gluoncv) (2.4.5)\n",
            "Requirement already satisfied: setuptools in /usr/local/lib/python3.6/dist-packages (from kiwisolver>=1.0.1->matplotlib->gluoncv) (41.6.0)\n",
            "Requirement already satisfied: six>=1.5 in /usr/local/lib/python3.6/dist-packages (from python-dateutil>=2.1->matplotlib->gluoncv) (1.12.0)\n",
            "Installing collected packages: gluoncv\n",
            "Successfully installed gluoncv-0.5.0\n"
          ],
          "name": "stdout"
        }
      ]
    },
    {
      "cell_type": "code",
      "metadata": {
        "id": "L3g1xJTtYgli",
        "colab_type": "code",
        "outputId": "91fd4c54-9b3c-44fb-a1cf-f7a54c1cef36",
        "colab": {
          "base_uri": "https://localhost:8080/",
          "height": 309
        }
      },
      "source": [
        "!pip install mxnet"
      ],
      "execution_count": 2,
      "outputs": [
        {
          "output_type": "stream",
          "text": [
            "Collecting mxnet\n",
            "\u001b[?25l  Downloading https://files.pythonhosted.org/packages/92/6c/c6e5562f8face683cec73f5d4d74a58f8572c0595d54f1fed9d923020bbd/mxnet-1.5.1.post0-py2.py3-none-manylinux1_x86_64.whl (25.4MB)\n",
            "\u001b[K     |████████████████████████████████| 25.4MB 1.2MB/s \n",
            "\u001b[?25hCollecting graphviz<0.9.0,>=0.8.1\n",
            "  Downloading https://files.pythonhosted.org/packages/53/39/4ab213673844e0c004bed8a0781a0721a3f6bb23eb8854ee75c236428892/graphviz-0.8.4-py2.py3-none-any.whl\n",
            "Requirement already satisfied: numpy<2.0.0,>1.16.0 in /usr/local/lib/python3.6/dist-packages (from mxnet) (1.17.4)\n",
            "Requirement already satisfied: requests<3,>=2.20.0 in /usr/local/lib/python3.6/dist-packages (from mxnet) (2.21.0)\n",
            "Requirement already satisfied: certifi>=2017.4.17 in /usr/local/lib/python3.6/dist-packages (from requests<3,>=2.20.0->mxnet) (2019.9.11)\n",
            "Requirement already satisfied: idna<2.9,>=2.5 in /usr/local/lib/python3.6/dist-packages (from requests<3,>=2.20.0->mxnet) (2.8)\n",
            "Requirement already satisfied: urllib3<1.25,>=1.21.1 in /usr/local/lib/python3.6/dist-packages (from requests<3,>=2.20.0->mxnet) (1.24.3)\n",
            "Requirement already satisfied: chardet<3.1.0,>=3.0.2 in /usr/local/lib/python3.6/dist-packages (from requests<3,>=2.20.0->mxnet) (3.0.4)\n",
            "Installing collected packages: graphviz, mxnet\n",
            "  Found existing installation: graphviz 0.10.1\n",
            "    Uninstalling graphviz-0.10.1:\n",
            "      Successfully uninstalled graphviz-0.10.1\n",
            "Successfully installed graphviz-0.8.4 mxnet-1.5.1.post0\n"
          ],
          "name": "stdout"
        }
      ]
    },
    {
      "cell_type": "code",
      "metadata": {
        "id": "D7kFgg0jYs70",
        "colab_type": "code",
        "colab": {}
      },
      "source": [
        "import time\n",
        "import numpy as np\n",
        "import mxnet as mx\n",
        "from mxnet import gluon, autograd\n",
        "from mxnet.gluon.data.vision import transforms\n",
        "from gluoncv import data, utils, model_zoo\n",
        "from gluoncv.utils.parallel import *\n",
        "from gluoncv.loss import MixSoftmaxCrossEntropyLoss\n",
        "from matplotlib import pyplot as plt"
      ],
      "execution_count": 0,
      "outputs": []
    },
    {
      "cell_type": "code",
      "metadata": {
        "id": "cFSb0KtkZoT_",
        "colab_type": "code",
        "outputId": "23f452b1-48d1-4909-8701-70fe6ce56d27",
        "colab": {
          "resources": {
            "http://localhost:8080/nbextensions/google.colab/files.js": {
              "data": "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",
              "ok": true,
              "headers": [
                [
                  "content-type",
                  "application/javascript"
                ]
              ],
              "status": 200,
              "status_text": ""
            }
          },
          "base_uri": "https://localhost:8080/",
          "height": 108
        }
      },
      "source": [
        "from google.colab import files\n",
        "files.upload() "
      ],
      "execution_count": 4,
      "outputs": [
        {
          "output_type": "display_data",
          "data": {
            "text/html": [
              "\n",
              "     <input type=\"file\" id=\"files-007057e5-4ce1-4c24-8c22-5b11cb1c47aa\" name=\"files[]\" multiple disabled />\n",
              "     <output id=\"result-007057e5-4ce1-4c24-8c22-5b11cb1c47aa\">\n",
              "      Upload widget is only available when the cell has been executed in the\n",
              "      current browser session. Please rerun this cell to enable.\n",
              "      </output>\n",
              "      <script src=\"/nbextensions/google.colab/files.js\"></script> "
            ],
            "text/plain": [
              "<IPython.core.display.HTML object>"
            ]
          },
          "metadata": {
            "tags": []
          }
        },
        {
          "output_type": "stream",
          "text": [
            "Saving pascal_voc.py to pascal_voc.py\n"
          ],
          "name": "stdout"
        },
        {
          "output_type": "execute_result",
          "data": {
            "text/plain": [
              "{'pascal_voc.py': b'\"\"\"Prepare PASCAL VOC datasets\"\"\"\\nimport os\\nimport shutil\\nimport argparse\\nimport tarfile\\nfrom gluoncv.utils import download, makedirs\\n\\n_TARGET_DIR = os.path.expanduser(\\'~/.mxnet/datasets/voc\\')\\n\\n\\ndef parse_args():\\n    parser = argparse.ArgumentParser(\\n        description=\\'Initialize PASCAL VOC dataset.\\',\\n        epilog=\\'Example: python pascal_voc.py --download-dir ~/VOCdevkit\\',\\n        formatter_class=argparse.ArgumentDefaultsHelpFormatter)\\n    parser.add_argument(\\'--download-dir\\', type=str, default=\\'~/VOCdevkit/\\', help=\\'dataset directory on disk\\')\\n    parser.add_argument(\\'--no-download\\', action=\\'store_true\\', help=\\'disable automatic download if set\\')\\n    parser.add_argument(\\'--overwrite\\', action=\\'store_true\\', help=\\'overwrite downloaded files if set, in case they are corrupted\\')\\n    args = parser.parse_args()\\n    return args\\n\\n#####################################################################################\\n# Download and extract VOC datasets into ``path``\\n\\ndef download_voc(path, overwrite=False):\\n    _DOWNLOAD_URLS = [\\n        (\\'http://host.robots.ox.ac.uk/pascal/VOC/voc2007/VOCtrainval_06-Nov-2007.tar\\',\\n         \\'34ed68851bce2a36e2a223fa52c661d592c66b3c\\'),\\n        (\\'http://host.robots.ox.ac.uk/pascal/VOC/voc2007/VOCtest_06-Nov-2007.tar\\',\\n         \\'41a8d6e12baa5ab18ee7f8f8029b9e11805b4ef1\\'),\\n        (\\'http://host.robots.ox.ac.uk/pascal/VOC/voc2012/VOCtrainval_11-May-2012.tar\\',\\n         \\'4e443f8a2eca6b1dac8a6c57641b67dd40621a49\\')]\\n    makedirs(path)\\n    for url, checksum in _DOWNLOAD_URLS:\\n        filename = download(url, path=path, overwrite=overwrite, sha1_hash=checksum)\\n        # extract\\n        with tarfile.open(filename) as tar:\\n            tar.extractall(path=path)\\n\\n\\n#####################################################################################\\n# Download and extract the VOC augmented segmentation dataset into ``path``\\n\\ndef download_aug(path, overwrite=False):\\n    _AUG_DOWNLOAD_URLS = [\\n        (\\'http://www.eecs.berkeley.edu/Research/Projects/CS/vision/grouping/semantic_contours/benchmark.tgz\\', \\'7129e0a480c2d6afb02b517bb18ac54283bfaa35\\')]\\n    makedirs(path)\\n    for url, checksum in _AUG_DOWNLOAD_URLS:\\n        filename = download(url, path=path, overwrite=overwrite, sha1_hash=checksum)\\n        # extract\\n        with tarfile.open(filename) as tar:\\n            tar.extractall(path=path)\\n            shutil.move(os.path.join(path, \\'benchmark_RELEASE\\'),\\n                        os.path.join(path, \\'VOCaug\\'))\\n            filenames = [\\'VOCaug/dataset/train.txt\\', \\'VOCaug/dataset/val.txt\\']\\n            # generate trainval.txt\\n            with open(os.path.join(path, \\'VOCaug/dataset/trainval.txt\\'), \\'w\\') as outfile:\\n                for fname in filenames:\\n                    fname = os.path.join(path, fname)\\n                    with open(fname) as infile:\\n                        for line in infile:\\n                            outfile.write(line)\\n\\n\\nif __name__ == \\'__main__\\':\\n    args = parse_args()\\n    path = os.path.expanduser(args.download_dir)\\n    if not os.path.isdir(path) or not os.path.isdir(os.path.join(path, \\'VOC2007\\')) \\\\\\n        or not os.path.isdir(os.path.join(path, \\'VOC2012\\')):\\n        if args.no_download:\\n            raise ValueError((\\'{} is not a valid directory, make sure it is present.\\'\\n                              \\' Or you should not disable \"--no-download\" to grab it\\'.format(path)))\\n        else:\\n            download_voc(path, overwrite=args.overwrite)\\n            shutil.move(os.path.join(path, \\'VOCdevkit\\', \\'VOC2007\\'), os.path.join(path, \\'VOC2007\\'))\\n            shutil.move(os.path.join(path, \\'VOCdevkit\\', \\'VOC2012\\'), os.path.join(path, \\'VOC2012\\'))\\n            shutil.rmtree(os.path.join(path, \\'VOCdevkit\\'))\\n\\n    if not os.path.isdir(os.path.join(path, \\'VOCaug\\')):\\n        if args.no_download:\\n            raise ValueError((\\'{} is not a valid directory, make sure it is present.\\'\\n                              \\' Or you should not disable \"--no-download\" to grab it\\'.format(path)))\\n        else:\\n            download_aug(path, overwrite=args.overwrite)\\n\\n    # make symlink\\n    makedirs(os.path.expanduser(\\'~/.mxnet/datasets\\'))\\n    if os.path.isdir(_TARGET_DIR):\\n        os.remove(_TARGET_DIR)\\n    os.symlink(path, _TARGET_DIR)\\n'}"
            ]
          },
          "metadata": {
            "tags": []
          },
          "execution_count": 4
        }
      ]
    },
    {
      "cell_type": "code",
      "metadata": {
        "id": "D_RYVV6eaY0G",
        "colab_type": "code",
        "colab": {
          "base_uri": "https://localhost:8080/",
          "height": 153
        },
        "outputId": "e5d8da42-f34f-4386-d87f-90059f373a5c"
      },
      "source": [
        "!python pascal_voc.py"
      ],
      "execution_count": 5,
      "outputs": [
        {
          "output_type": "stream",
          "text": [
            "Downloading /root/VOCdevkit/VOCtrainval_06-Nov-2007.tar from http://host.robots.ox.ac.uk/pascal/VOC/voc2007/VOCtrainval_06-Nov-2007.tar...\n",
            "100% 449250/449250 [00:05<00:00, 77035.30KB/s]\n",
            "Downloading /root/VOCdevkit/VOCtest_06-Nov-2007.tar from http://host.robots.ox.ac.uk/pascal/VOC/voc2007/VOCtest_06-Nov-2007.tar...\n",
            "100% 440450/440450 [00:05<00:00, 77327.78KB/s]\n",
            "Downloading /root/VOCdevkit/VOCtrainval_11-May-2012.tar from http://host.robots.ox.ac.uk/pascal/VOC/voc2012/VOCtrainval_11-May-2012.tar...\n",
            "100% 1952773/1952773 [00:25<00:00, 77094.13KB/s]\n",
            "Downloading /root/VOCdevkit/benchmark.tgz from http://www.eecs.berkeley.edu/Research/Projects/CS/vision/grouping/semantic_contours/benchmark.tgz...\n",
            "1386270KB [01:12, 19190.67KB/s]                 \n"
          ],
          "name": "stdout"
        }
      ]
    },
    {
      "cell_type": "code",
      "metadata": {
        "id": "hZQW5XiNYwJv",
        "colab_type": "code",
        "outputId": "ca266c57-ddf4-4f0b-b813-f8694f89470a",
        "colab": {
          "base_uri": "https://localhost:8080/",
          "height": 34
        }
      },
      "source": [
        "# input_transform = transforms.Compose([transforms.ToTensor(),transforms.Normalize([.485, .456, .406], [.229, .224, .225]),])\n",
        "trainset = data.VOCSegmentation(split='train')  # (list of list)\n",
        "print('Training images:', len(trainset))"
      ],
      "execution_count": 6,
      "outputs": [
        {
          "output_type": "stream",
          "text": [
            "Training images: 2913\n"
          ],
          "name": "stdout"
        }
      ]
    },
    {
      "cell_type": "code",
      "metadata": {
        "id": "ruOSOZbEsqfr",
        "colab_type": "code",
        "colab": {}
      },
      "source": [
        "import gluoncv\n",
        "from PIL import Image\n",
        "import numpy as np\n",
        "from gluoncv import data, utils\n",
        "from matplotlib import pyplot as plt\n",
        "\n",
        "img, mask = trainset[1]\n",
        "# get pallete for the mask\n",
        "from gluoncv.utils.viz import get_color_pallete\n",
        "mask = get_color_pallete(mask.asnumpy())\n",
        "mask.save('mask.png')"
      ],
      "execution_count": 0,
      "outputs": []
    },
    {
      "cell_type": "code",
      "metadata": {
        "id": "Ye-I2bKR0a77",
        "colab_type": "code",
        "outputId": "a426c75a-5f43-4de3-d161-2791227daacf",
        "colab": {
          "base_uri": "https://localhost:8080/",
          "height": 204
        }
      },
      "source": [
        "from matplotlib import pyplot as plt\n",
        "import matplotlib.image as mpimg\n",
        "# subplot 1 for img\n",
        "fig = plt.figure()\n",
        "fig.add_subplot(1,2,1)\n",
        "plt.imshow(img.asnumpy().reshape(480, 480, 3).astype('uint8'))\n",
        "# subplot 2 for the mask\n",
        "mmask = mpimg.imread('mask.png')\n",
        "fig.add_subplot(1,2,2)\n",
        "plt.imshow(mmask)\n",
        "# display\n",
        "plt.show()"
      ],
      "execution_count": 8,
      "outputs": [
        {
          "output_type": "display_data",
          "data": {
            "image/png": "[encoded data removed]",
            "text/plain": [
              "<Figure size 432x288 with 2 Axes>"
            ]
          },
          "metadata": {
            "tags": []
          }
        }
      ]
    },
    {
      "cell_type": "code",
      "metadata": {
        "id": "cj7Fmdi0cPn9",
        "colab_type": "code",
        "colab": {}
      },
      "source": [
        "batch_size = 1 \n",
        "train_data = gluon.data.DataLoader(trainset, batch_size, shuffle=False, last_batch='rollover', num_workers=batch_size)"
      ],
      "execution_count": 0,
      "outputs": []
    },
    {
      "cell_type": "code",
      "metadata": {
        "id": "hT-EPvhfcUGu",
        "colab_type": "code",
        "outputId": "4ca55ea2-0b6d-44c4-edf4-0deaad790acf",
        "colab": {
          "base_uri": "https://localhost:8080/",
          "height": 131
        }
      },
      "source": [
        "import gluoncv\n",
        "from PIL import Image\n",
        "import numpy as np\n",
        "from gluoncv import data, utils\n",
        "from matplotlib import pyplot as plt\n",
        "from keras.utils.np_utils import to_categorical\n",
        "\n",
        "for batch, (data, target) in enumerate(train_data):\n",
        "    matrix_data = data.asnumpy()  # (batch, 480, 480, 3)\n",
        "    matrix_target = target.asnumpy().astype(int)  # (batch, 480, 480)\n",
        "    matrix_target[matrix_target == -1] = 21  # -1 represents for the unlabled class \n",
        "    categorical_labels = to_categorical(matrix_target, num_classes=22) \n",
        "    print(categorical_labels.shape)\n",
        "    print(matrix_data.shape)\n",
        "    print(matrix_target.shape) \n",
        "    # gluoncv.utils.viz.plot_image(matrix_data[0])\n",
        "    # plt.show()\n",
        "    break"
      ],
      "execution_count": 10,
      "outputs": [
        {
          "output_type": "stream",
          "text": [
            "Using TensorFlow backend.\n"
          ],
          "name": "stderr"
        },
        {
          "output_type": "display_data",
          "data": {
            "text/html": [
              "<p style=\"color: red;\">\n",
              "The default version of TensorFlow in Colab will soon switch to TensorFlow 2.x.<br>\n",
              "We recommend you <a href=\"https://www.tensorflow.org/guide/migrate\" target=\"_blank\">upgrade</a> now \n",
              "or ensure your notebook will continue to use TensorFlow 1.x via the <code>%tensorflow_version 1.x</code> magic:\n",
              "<a href=\"https://colab.research.google.com/notebooks/tensorflow_version.ipynb\" target=\"_blank\">more info</a>.</p>\n"
            ],
            "text/plain": [
              "<IPython.core.display.HTML object>"
            ]
          },
          "metadata": {
            "tags": []
          }
        },
        {
          "output_type": "stream",
          "text": [
            "(1, 480, 480, 22)\n",
            "(1, 480, 480, 3)\n",
            "(1, 480, 480)\n"
          ],
          "name": "stdout"
        }
      ]
    }
  ]
}